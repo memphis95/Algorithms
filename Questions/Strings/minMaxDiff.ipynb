{
 "cells": [
  {
   "cell_type": "markdown",
   "metadata": {},
   "source": [
    "minimum and the maximum difference between two given Strings\n",
    "\n",
    "Given two strings S1 and S2 of the same length. The task is to find the sum of the minimum and the maximum difference between two given strings if you are allowed to replace the character ‘+’ in the strings with any other character.\n",
    "Note: If two strings have the same characters at every index, then the difference between them is zero.\n",
    "Examples: \n",
    "\n",
    "Input: S1 = “a+c”, S2 = “++b” \n",
    "Output: 4 \n",
    "Explanation: \n",
    "Minimum difference = 1. For minimum difference: \n",
    "In the string S1 = “a+c”, the “+” can be replaced by “b” thereby making S1 = “abc” \n",
    "In the string S2 = “++b”, the “++” can be replaced by “ab” thereby making S2 = “abb” \n",
    "Above, only the 3rd index has a different character. So, the minimum difference = 1 \n",
    "Maximum difference = 1. For maximum difference: \n",
    "In the string S1 = “a+c”, the “+” can be replaced by “z” thereby making S1 = “azc” \n",
    "In the string S2 = “++b”, the “++” can be replaced by “bz” thereby making S2 = “bzb” \n",
    "Above, all the indices has the difference characters. So, the maximum difference = 3 \n",
    "Minimum Difference + Maximum Difference = 1 + 3 = 4"
   ]
  },
  {
   "cell_type": "code",
   "execution_count": null,
   "metadata": {},
   "outputs": [],
   "source": [
    "def minMaxDiff(string1, string2):\n",
    "    min_c = 0\n",
    "    max_c = 0\n",
    "\n",
    "    "
   ]
  },
  {
   "cell_type": "code",
   "execution_count": null,
   "metadata": {},
   "outputs": [],
   "source": [
    "s1 = \"\"\n",
    "s2 = \"\"\n",
    "minMaxDiff(s1, s2)"
   ]
  }
 ],
 "metadata": {
  "kernelspec": {
   "display_name": "Python 3.9.13 ('base')",
   "language": "python",
   "name": "python3"
  },
  "language_info": {
   "name": "python",
   "version": "3.9.13"
  },
  "orig_nbformat": 4,
  "vscode": {
   "interpreter": {
    "hash": "40d3a090f54c6569ab1632332b64b2c03c39dcf918b08424e98f38b5ae0af88f"
   }
  }
 },
 "nbformat": 4,
 "nbformat_minor": 2
}
