{
 "cells": [
  {
   "cell_type": "markdown",
   "metadata": {},
   "source": [
    "Buy and Sell Stock once"
   ]
  },
  {
   "cell_type": "code",
   "execution_count": 4,
   "metadata": {},
   "outputs": [
    {
     "name": "stdout",
     "output_type": "stream",
     "text": [
      "max_profit: 80 for element: 100\n",
      "max_profit: 160 for element: 100\n",
      "max_profit: 210 for element: 100\n",
      "max_profit: 435 for element: 100\n",
      "max_profit: 595 for element: 100\n",
      "max_profit: 655 for element: 40\n",
      "655\n"
     ]
    }
   ],
   "source": [
    "arr = [100, 180, 260, 310, 40, 535, 695]\n",
    "max_profit = 0\n",
    "for i in range(len(arr)):\n",
    "    for j in range(i+1, len(arr), 1):\n",
    "        if arr[j] - arr[i] > max_profit:\n",
    "            max_profit = arr[j] - arr[i]\n",
    "            print(\"max_profit: {} for element: {}\".format(max_profit, arr[i]))\n",
    "\n",
    "print(max_profit)\n",
    "# time complexity - O(n^2)\n",
    "# space complexity - O(1)\n"
   ]
  },
  {
   "cell_type": "markdown",
   "metadata": {},
   "source": [
    "The cost of a stock on each day is given in an array. \n",
    "Find the maximum profit that you can make by buying and selling on those days. \n",
    "If the given array of prices is sorted in decreasing order, then profit cannot be earned at all.\n",
    "\n",
    "link - https://www.geeksforgeeks.org/stock-buy-sell/ \n",
    "\n",
    "arr = [100, 180, 260, 310, 40, 535, 695]\n",
    "ouput - 865\n",
    "Explanation - Buy the stock on day 0 and sell it on day 3 => 310 – 100 = 210\n",
    "            Buy the stock on day 4 and sell it on day 6 => 695 – 40 = 655\n",
    "            Maximum Profit  = 210 + 655 = 865"
   ]
  },
  {
   "cell_type": "code",
   "execution_count": 11,
   "metadata": {},
   "outputs": [
    {
     "name": "stdout",
     "output_type": "stream",
     "text": [
      "655\n"
     ]
    }
   ],
   "source": [
    "maxProfit = 0\n",
    "minPrice = float('inf') \n",
    "\n",
    "for i in range(len(arr)):\n",
    "    minPrice = min(minPrice, arr[i])\n",
    "    maxProfit = max(maxProfit, arr[i]-minPrice)\n",
    "        \n",
    "print(maxProfit)\n",
    "\n",
    "# time complexity - O(n)\n",
    "# space complexity - O(1)\n",
    "    "
   ]
  }
 ],
 "metadata": {
  "kernelspec": {
   "display_name": "base",
   "language": "python",
   "name": "python3"
  },
  "language_info": {
   "codemirror_mode": {
    "name": "ipython",
    "version": 3
   },
   "file_extension": ".py",
   "mimetype": "text/x-python",
   "name": "python",
   "nbconvert_exporter": "python",
   "pygments_lexer": "ipython3",
   "version": "3.9.13"
  }
 },
 "nbformat": 4,
 "nbformat_minor": 2
}
