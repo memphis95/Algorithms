{
 "cells": [
  {
   "cell_type": "code",
   "execution_count": 11,
   "metadata": {},
   "outputs": [],
   "source": [
    "def sort012(arr, n) :\n",
    "\n",
    "\t# write your code here\n",
    "    # don't return anything\n",
    "    c_0 = 0\n",
    "    c_1 = 0\n",
    "    for i in arr:\n",
    "        if i == 0 :\n",
    "            c_0 += 1\n",
    "        elif i == 1:\n",
    "            c_1 += 1\n",
    "    i = 0\n",
    "    print(c_0, c_1)\n",
    "    while(c_0>0 and i<n):\n",
    "        arr[i] = 0\n",
    "        i +=1\n",
    "        c_0 -= 1\n",
    "    while(c_1>0 and i<n):\n",
    "        arr[i] = 1\n",
    "        i += 1\n",
    "        c_1 -= 1\n",
    "    while(i<n):\n",
    "        arr[i] = 2\n",
    "        i += 1\n",
    "    print(arr)"
   ]
  },
  {
   "cell_type": "code",
   "execution_count": 12,
   "metadata": {},
   "outputs": [
    {
     "name": "stdout",
     "output_type": "stream",
     "text": [
      "2 2\n",
      "[0, 0, 1, 1, 2, 2]\n"
     ]
    }
   ],
   "source": [
    "sort012([0, 1, 2, 2,1, 0], 6)"
   ]
  },
  {
   "cell_type": "code",
   "execution_count": null,
   "metadata": {},
   "outputs": [],
   "source": []
  }
 ],
 "metadata": {
  "kernelspec": {
   "display_name": "Python 3.9.13 ('base')",
   "language": "python",
   "name": "python3"
  },
  "language_info": {
   "codemirror_mode": {
    "name": "ipython",
    "version": 3
   },
   "file_extension": ".py",
   "mimetype": "text/x-python",
   "name": "python",
   "nbconvert_exporter": "python",
   "pygments_lexer": "ipython3",
   "version": "3.9.13"
  },
  "orig_nbformat": 4,
  "vscode": {
   "interpreter": {
    "hash": "40d3a090f54c6569ab1632332b64b2c03c39dcf918b08424e98f38b5ae0af88f"
   }
  }
 },
 "nbformat": 4,
 "nbformat_minor": 2
}
